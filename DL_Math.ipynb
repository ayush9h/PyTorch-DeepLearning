{
  "cells": [
    {
      "cell_type": "markdown",
      "metadata": {
        "id": "view-in-github",
        "colab_type": "text"
      },
      "source": [
        "<a href=\"https://colab.research.google.com/github/ayush9h/PyTorch-DeepLearning/blob/main/DL_Math.ipynb\" target=\"_parent\"><img src=\"https://colab.research.google.com/assets/colab-badge.svg\" alt=\"Open In Colab\"/></a>"
      ]
    },
    {
      "cell_type": "markdown",
      "source": [
        "**Transpose**"
      ],
      "metadata": {
        "id": "-ZBQxUNwfKB3"
      }
    },
    {
      "cell_type": "code",
      "source": [
        "import numpy as np\n",
        "import torch"
      ],
      "metadata": {
        "id": "cZVqFnLZe-8_"
      },
      "execution_count": null,
      "outputs": []
    },
    {
      "cell_type": "code",
      "source": [
        "nv = np.array([[1,2,3,4]])\n",
        "print(nv.T)"
      ],
      "metadata": {
        "id": "VUqZ0dxUfCG2",
        "colab": {
          "base_uri": "https://localhost:8080/"
        },
        "outputId": "9b300ce6-8654-442f-dec9-20679075de02"
      },
      "execution_count": null,
      "outputs": [
        {
          "output_type": "stream",
          "name": "stdout",
          "text": [
            "[[1]\n",
            " [2]\n",
            " [3]\n",
            " [4]]\n"
          ]
        }
      ]
    },
    {
      "cell_type": "code",
      "source": [
        "tv = torch.Tensor([[1,2,3,4]])\n",
        "print(tv.T)"
      ],
      "metadata": {
        "colab": {
          "base_uri": "https://localhost:8080/"
        },
        "id": "oT_3f3M5fb_e",
        "outputId": "a928b6eb-2a86-4a14-d5a4-214e2dea05a3"
      },
      "execution_count": null,
      "outputs": [
        {
          "output_type": "stream",
          "name": "stdout",
          "text": [
            "tensor([[1.],\n",
            "        [2.],\n",
            "        [3.],\n",
            "        [4.]])\n"
          ]
        }
      ]
    },
    {
      "cell_type": "markdown",
      "source": [
        "**Dot Product**"
      ],
      "metadata": {
        "id": "vvxd6OR6gwuW"
      }
    },
    {
      "cell_type": "code",
      "source": [
        "tv1 = torch.Tensor([1,2,3,4])\n",
        "tv2 = torch.Tensor([2,3,5,6])\n",
        "\n",
        "print(torch.dot(tv1,tv2))"
      ],
      "metadata": {
        "id": "HZq-yu5IfwCl",
        "colab": {
          "base_uri": "https://localhost:8080/"
        },
        "outputId": "0589677f-a96b-4898-e1c1-25b8cb0bf8d0"
      },
      "execution_count": 7,
      "outputs": [
        {
          "output_type": "stream",
          "name": "stdout",
          "text": [
            "tensor(47.)\n"
          ]
        }
      ]
    },
    {
      "cell_type": "code",
      "source": [
        "A = torch.randn(3,4)\n",
        "B = torch.randn(4,5)\n",
        "print(A@B)"
      ],
      "metadata": {
        "colab": {
          "base_uri": "https://localhost:8080/"
        },
        "id": "k--Tng60hpzC",
        "outputId": "180d2cea-5a1d-4d26-cef8-b02da55e57a8"
      },
      "execution_count": 8,
      "outputs": [
        {
          "output_type": "stream",
          "name": "stdout",
          "text": [
            "tensor([[ 0.6287, -1.2064,  1.0509,  0.3896, -0.1985],\n",
            "        [-4.1493, -0.7067, -0.4339, -2.0681,  2.1152],\n",
            "        [-0.9909, -0.3971, -0.2749,  1.7071,  0.7959]])\n"
          ]
        }
      ]
    },
    {
      "cell_type": "code",
      "source": [
        "C1 = np.random.randn(4,7)\n",
        "C2 = torch.tensor(C1, dtype=torch.float)\n",
        "print(A@C1)\n",
        "\n",
        "print(A@C2)"
      ],
      "metadata": {
        "colab": {
          "base_uri": "https://localhost:8080/"
        },
        "id": "jUevB5PbigjM",
        "outputId": "36f444f8-18f9-426d-a85e-b4bb57a36bc7"
      },
      "execution_count": 14,
      "outputs": [
        {
          "output_type": "stream",
          "name": "stdout",
          "text": [
            "tensor([[ 0.7542,  0.8856,  0.4466, -0.2916,  2.4079, -0.7860,  0.9516],\n",
            "        [-2.6410,  1.0342,  0.4448, -1.3418, -1.2033,  0.3255, -0.6242],\n",
            "        [ 3.3335, -0.8459,  1.9200, -2.0293,  1.4109, -2.5896,  2.6336]],\n",
            "       dtype=torch.float64)\n",
            "tensor([[ 0.7542,  0.8856,  0.4466, -0.2916,  2.4079, -0.7860,  0.9516],\n",
            "        [-2.6410,  1.0342,  0.4448, -1.3418, -1.2033,  0.3255, -0.6242],\n",
            "        [ 3.3335, -0.8459,  1.9200, -2.0293,  1.4109, -2.5896,  2.6336]])\n"
          ]
        },
        {
          "output_type": "stream",
          "name": "stderr",
          "text": [
            "/tmp/ipython-input-1093889441.py:3: DeprecationWarning: __array_wrap__ must accept context and return_scalar arguments (positionally) in the future. (Deprecated NumPy 2.0)\n",
            "  print(A@C1)\n"
          ]
        }
      ]
    },
    {
      "cell_type": "code",
      "source": [],
      "metadata": {
        "id": "xrHaRTzOi9Ea"
      },
      "execution_count": null,
      "outputs": []
    }
  ],
  "metadata": {
    "colab": {
      "provenance": [],
      "include_colab_link": true
    },
    "kernelspec": {
      "display_name": "Python 3",
      "name": "python3"
    }
  },
  "nbformat": 4,
  "nbformat_minor": 0
}