{
  "cells": [
    {
      "cell_type": "markdown",
      "metadata": {
        "id": "view-in-github",
        "colab_type": "text"
      },
      "source": [
        "<a href=\"https://colab.research.google.com/github/ayush9h/PyTorch-DeepLearning/blob/main/DL_Math.ipynb\" target=\"_parent\"><img src=\"https://colab.research.google.com/assets/colab-badge.svg\" alt=\"Open In Colab\"/></a>"
      ]
    },
    {
      "cell_type": "markdown",
      "source": [
        "**Transpose**"
      ],
      "metadata": {
        "id": "-ZBQxUNwfKB3"
      }
    },
    {
      "cell_type": "code",
      "source": [
        "import numpy as np\n",
        "import torch"
      ],
      "metadata": {
        "id": "cZVqFnLZe-8_"
      },
      "execution_count": null,
      "outputs": []
    },
    {
      "cell_type": "code",
      "source": [
        "nv = np.array([[1,2,3,4]])\n",
        "print(nv.T)"
      ],
      "metadata": {
        "id": "VUqZ0dxUfCG2",
        "colab": {
          "base_uri": "https://localhost:8080/"
        },
        "outputId": "9b300ce6-8654-442f-dec9-20679075de02"
      },
      "execution_count": null,
      "outputs": [
        {
          "output_type": "stream",
          "name": "stdout",
          "text": [
            "[[1]\n",
            " [2]\n",
            " [3]\n",
            " [4]]\n"
          ]
        }
      ]
    },
    {
      "cell_type": "code",
      "source": [
        "tv = torch.Tensor([[1,2,3,4]])\n",
        "print(tv.T)"
      ],
      "metadata": {
        "colab": {
          "base_uri": "https://localhost:8080/"
        },
        "id": "oT_3f3M5fb_e",
        "outputId": "a928b6eb-2a86-4a14-d5a4-214e2dea05a3"
      },
      "execution_count": null,
      "outputs": [
        {
          "output_type": "stream",
          "name": "stdout",
          "text": [
            "tensor([[1.],\n",
            "        [2.],\n",
            "        [3.],\n",
            "        [4.]])\n"
          ]
        }
      ]
    },
    {
      "cell_type": "markdown",
      "source": [
        "**Dot Product and MatMul**"
      ],
      "metadata": {
        "id": "vvxd6OR6gwuW"
      }
    },
    {
      "cell_type": "code",
      "source": [
        "tv1 = torch.Tensor([1,2,3,4])\n",
        "tv2 = torch.Tensor([2,3,5,6])\n",
        "\n",
        "print(torch.dot(tv1,tv2))"
      ],
      "metadata": {
        "id": "HZq-yu5IfwCl",
        "colab": {
          "base_uri": "https://localhost:8080/"
        },
        "outputId": "0589677f-a96b-4898-e1c1-25b8cb0bf8d0"
      },
      "execution_count": 7,
      "outputs": [
        {
          "output_type": "stream",
          "name": "stdout",
          "text": [
            "tensor(47.)\n"
          ]
        }
      ]
    },
    {
      "cell_type": "code",
      "source": [
        "A = torch.randn(3,4)\n",
        "B = torch.randn(4,5)\n",
        "print(A@B)"
      ],
      "metadata": {
        "colab": {
          "base_uri": "https://localhost:8080/"
        },
        "id": "k--Tng60hpzC",
        "outputId": "180d2cea-5a1d-4d26-cef8-b02da55e57a8"
      },
      "execution_count": 8,
      "outputs": [
        {
          "output_type": "stream",
          "name": "stdout",
          "text": [
            "tensor([[ 0.6287, -1.2064,  1.0509,  0.3896, -0.1985],\n",
            "        [-4.1493, -0.7067, -0.4339, -2.0681,  2.1152],\n",
            "        [-0.9909, -0.3971, -0.2749,  1.7071,  0.7959]])\n"
          ]
        }
      ]
    },
    {
      "cell_type": "code",
      "source": [
        "C1 = np.random.randn(4,7)\n",
        "C2 = torch.tensor(C1, dtype=torch.float)\n",
        "print(A@C1)\n",
        "\n",
        "print(A@C2)"
      ],
      "metadata": {
        "colab": {
          "base_uri": "https://localhost:8080/"
        },
        "id": "jUevB5PbigjM",
        "outputId": "36f444f8-18f9-426d-a85e-b4bb57a36bc7"
      },
      "execution_count": 14,
      "outputs": [
        {
          "output_type": "stream",
          "name": "stdout",
          "text": [
            "tensor([[ 0.7542,  0.8856,  0.4466, -0.2916,  2.4079, -0.7860,  0.9516],\n",
            "        [-2.6410,  1.0342,  0.4448, -1.3418, -1.2033,  0.3255, -0.6242],\n",
            "        [ 3.3335, -0.8459,  1.9200, -2.0293,  1.4109, -2.5896,  2.6336]],\n",
            "       dtype=torch.float64)\n",
            "tensor([[ 0.7542,  0.8856,  0.4466, -0.2916,  2.4079, -0.7860,  0.9516],\n",
            "        [-2.6410,  1.0342,  0.4448, -1.3418, -1.2033,  0.3255, -0.6242],\n",
            "        [ 3.3335, -0.8459,  1.9200, -2.0293,  1.4109, -2.5896,  2.6336]])\n"
          ]
        },
        {
          "output_type": "stream",
          "name": "stderr",
          "text": [
            "/tmp/ipython-input-1093889441.py:3: DeprecationWarning: __array_wrap__ must accept context and return_scalar arguments (positionally) in the future. (Deprecated NumPy 2.0)\n",
            "  print(A@C1)\n"
          ]
        }
      ]
    },
    {
      "cell_type": "markdown",
      "source": [
        "**Softmax**"
      ],
      "metadata": {
        "id": "S4JTMmNJj92Y"
      }
    },
    {
      "cell_type": "code",
      "source": [
        "# From scratch\n",
        "import math\n",
        "z = [1,2,3]\n",
        "ez = [math.exp(i) for i in z]\n",
        "sum_ez = np.sum(ez)\n",
        "\n",
        "softmax_res = [i/sum_ez for i in ez]\n",
        "\n",
        "print(softmax_res)"
      ],
      "metadata": {
        "colab": {
          "base_uri": "https://localhost:8080/"
        },
        "id": "xrHaRTzOi9Ea",
        "outputId": "bb325a41-841b-4810-c0cb-0a5dd9b21065"
      },
      "execution_count": 25,
      "outputs": [
        {
          "output_type": "stream",
          "name": "stdout",
          "text": [
            "[np.float64(0.09003057317038046), np.float64(0.24472847105479767), np.float64(0.6652409557748219)]\n"
          ]
        }
      ]
    },
    {
      "cell_type": "code",
      "source": [
        "import torch.nn as nn\n",
        "softfun = nn.Softmax(dim = 0)\n",
        "sigmaT = softfun(torch.Tensor(z))\n",
        "\n",
        "print(sigmaT)"
      ],
      "metadata": {
        "colab": {
          "base_uri": "https://localhost:8080/"
        },
        "id": "WfKbJWmWkhg6",
        "outputId": "84de279e-f59f-49e8-85a3-3947b1525bcd"
      },
      "execution_count": 26,
      "outputs": [
        {
          "output_type": "stream",
          "name": "stdout",
          "text": [
            "tensor([0.0900, 0.2447, 0.6652])\n"
          ]
        }
      ]
    },
    {
      "cell_type": "markdown",
      "source": [
        "**Entropy**"
      ],
      "metadata": {
        "id": "B_92g1dOobqm"
      }
    },
    {
      "cell_type": "code",
      "source": [
        "H = 0\n",
        "x = [.25,.75]\n",
        "for p in x:\n",
        "  H -= p*np.log(p)\n",
        "print(\"Entropy\", H)"
      ],
      "metadata": {
        "colab": {
          "base_uri": "https://localhost:8080/"
        },
        "id": "B8Jo4_Xzoc4j",
        "outputId": "8dc318b1-ba33-40d6-defd-c2ac7c124c5a"
      },
      "execution_count": 29,
      "outputs": [
        {
          "output_type": "stream",
          "name": "stdout",
          "text": [
            "Entropy 0.5623351446188083\n"
          ]
        }
      ]
    },
    {
      "cell_type": "code",
      "source": [
        "import torch.nn.functional as F\n",
        "p = [0.0,1.0]\n",
        "q = [.25,.75]\n",
        "q_tensor = torch.tensor(q)\n",
        "p_tensor = torch.tensor(p)\n",
        "\n",
        "F.binary_cross_entropy(q_tensor, p_tensor)"
      ],
      "metadata": {
        "colab": {
          "base_uri": "https://localhost:8080/"
        },
        "id": "WGts1YQEqCVA",
        "outputId": "2578b3fe-3457-4982-da31-da1c7a848530"
      },
      "execution_count": 33,
      "outputs": [
        {
          "output_type": "execute_result",
          "data": {
            "text/plain": [
              "tensor(0.2877)"
            ]
          },
          "metadata": {},
          "execution_count": 33
        }
      ]
    },
    {
      "cell_type": "code",
      "source": [],
      "metadata": {
        "id": "Z86UyxH1q621"
      },
      "execution_count": null,
      "outputs": []
    }
  ],
  "metadata": {
    "colab": {
      "provenance": [],
      "include_colab_link": true
    },
    "kernelspec": {
      "display_name": "Python 3",
      "name": "python3"
    }
  },
  "nbformat": 4,
  "nbformat_minor": 0
}